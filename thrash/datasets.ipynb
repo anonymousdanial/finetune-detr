{
 "cells": [
  {
   "cell_type": "code",
   "execution_count": null,
   "id": "1164825d",
   "metadata": {},
   "outputs": [],
   "source": [
    "\"the purpose of this file is to take a yolo file labels and convert them to coco format to be used by DETR\""
   ]
  },
  {
   "cell_type": "code",
   "execution_count": 1,
   "id": "b86ac413",
   "metadata": {},
   "outputs": [],
   "source": [
    "import torch"
   ]
  },
  {
   "cell_type": "code",
   "execution_count": 3,
   "id": "efdd262f",
   "metadata": {},
   "outputs": [],
   "source": [
    "ds = \"data/Dataset\"\n",
    "# ds = f\"military drones images\"\n",
    "\n",
    "models = f\"/mnt/d/23b6034/FYP/models/DETR-4\"\n",
    "train_dataset = f\"/mnt/d/23b6034/FYP/datasets/{ds}/train\"\n",
    "test_dataset = f\"/mnt/d/23b6034/FYP/datasets/{ds}/test\"\n",
    "val_dataset = f\"/mnt/d/23b6034/FYP/datasets/{ds}/valid\""
   ]
  },
  {
   "cell_type": "code",
   "execution_count": 4,
   "id": "aad8dcc9",
   "metadata": {},
   "outputs": [],
   "source": [
    "class DroneDataset(torch.utils.data.Dataset):\n",
    "    def __init__(self, image_dir, label_dir, classes, transform=None):\n",
    "        self.image_dir = image_dir\n",
    "        self.label_dir = label_dir\n",
    "        self.classes = classes\n",
    "        self.transform = transform\n",
    "        self.image_filenames = [f for f in os.listdir(image_dir) if f.endswith(('.jpg', '.jpeg', '.png'))]\n",
    "\n",
    "    def __len__(self):\n",
    "        return len(self.image_filenames)\n",
    "\n",
    "    def __getitem__(self, idx):\n",
    "        img_name = self.image_filenames[idx]\n",
    "        img_path = os.path.join(self.image_dir, img_name)\n",
    "        label_path = os.path.join(self.label_dir, os.path.splitext(img_name)[0] + '.txt') # Assuming label files have the same name as images with a .txt extension\n",
    "\n",
    "        image = Image.open(img_path).convert(\"RGB\")\n",
    "        if self.transform:\n",
    "            image = self.transform(image)\n",
    "\n",
    "        boxes = []\n",
    "        labels = []\n",
    "        if os.path.exists(label_path):\n",
    "            with open(label_path, 'r') as f:\n",
    "                for line in f.readlines():\n",
    "                    class_id, center_x, center_y, width, height = map(float, line.strip().split())\n",
    "                    # Convert YOLO format (center_x, center_y, width, height) to [x_min, y_min, x_max, y_max]\n",
    "                    # Assuming coordinates are normalized (0 to 1)\n",
    "                    x_min = center_x - width / 2\n",
    "                    y_min = center_y - height / 2\n",
    "                    x_max = center_x + width / 2\n",
    "                    y_max = center_y + height / 2\n",
    "                    boxes.append([x_min, y_min, x_max, y_max])\n",
    "                    labels.append(int(class_id)) # Assuming class_id is an integer\n",
    "\n",
    "        target = {}\n",
    "        target[\"boxes\"] = torch.as_tensor(boxes, dtype=torch.float32)\n",
    "        target[\"labels\"] = torch.as_tensor(labels, dtype=torch.int64)\n",
    "\n",
    "        return image, target"
   ]
  },
  {
   "cell_type": "code",
   "execution_count": 5,
   "id": "ce548bc1",
   "metadata": {},
   "outputs": [],
   "source": [
    "# Define image and label directory paths\n",
    "labels = \"/labels\"\n",
    "train_label_dir = train_dataset + labels\n",
    "val_label_dir = val_dataset + labels\n",
    "test_label_dir = test_dataset + labels"
   ]
  },
  {
   "cell_type": "code",
   "execution_count": 6,
   "id": "b9ebf54e",
   "metadata": {},
   "outputs": [
    {
     "name": "stdout",
     "output_type": "stream",
     "text": [
      "Sample label file: /mnt/d/23b6034/FYP/datasets/data/Dataset/train/labels/-B8-DA-C1-F8-2778_jpg.rf.45ca35bb4ad15328a4decfe25bbb208c.txt\n",
      "3 0.814990234375 0.26957413249211354 0.047939453125 0.21794952681388013\n",
      "3 0.755947265625 0.19501577287066246 0.063037109375 0.24089905362776023\n",
      "3 0.699130859375 0.29610410094637224 0.0452734375 0.11328075709779178\n",
      "3 0.591708984375 0.2358832807570978 0.055927734375 0.20504731861198738\n",
      "3 0.499375 0.18569400630914829 0.039951171875 0.11900630914826499\n",
      "\n"
     ]
    }
   ],
   "source": [
    "import os\n",
    "# Print a sample label file from the training set\n",
    "sample_label_file = None\n",
    "for f in os.listdir(train_label_dir):\n",
    "    if f.endswith('.txt'):\n",
    "        sample_label_file = os.path.join(train_label_dir, f)\n",
    "        break\n",
    "if sample_label_file:\n",
    "    print(f\"Sample label file: {sample_label_file}\")\n",
    "    with open(sample_label_file, 'r') as file:\n",
    "        print(file.read())\n",
    "else:\n",
    "    print(\"No label files found in the training label directory.\")"
   ]
  },
  {
   "cell_type": "code",
   "execution_count": 9,
   "id": "4d7a800f",
   "metadata": {},
   "outputs": [
    {
     "name": "stdout",
     "output_type": "stream",
     "text": [
      "YOLO labels converted to COCO format and saved in labels-coc folders. Images untouched.\n"
     ]
    }
   ],
   "source": [
    "from PIL import Image\n",
    "import os\n",
    "\n",
    "# Function to convert YOLO to COCO format\n",
    "# YOLO: class_id, center_x, center_y, width, height (normalized)\n",
    "# COCO: class_id, x_min, y_min, width, height (absolute)\n",
    "def convert_yolo_to_coco(label_path, image_path):\n",
    "    coco_labels = []\n",
    "    with open(label_path, 'r') as f:\n",
    "        lines = f.readlines()\n",
    "    img = Image.open(image_path)\n",
    "    img_w, img_h = img.size\n",
    "    for line in lines:\n",
    "        class_id, center_x, center_y, w, h = map(float, line.strip().split())\n",
    "        x_min = (center_x - w / 2) * img_w\n",
    "        y_min = (center_y - h / 2) * img_h\n",
    "        width = w * img_w\n",
    "        height = h * img_h\n",
    "        coco_labels.append(f\"{int(class_id)} {x_min:.6f} {y_min:.6f} {width:.6f} {height:.6f}\")\n",
    "    return coco_labels\n",
    "\n",
    "# Only change labels, keep images untouched\n",
    "for split, base_dir, label_dir in [\n",
    "    (\"train\", train_dataset, train_label_dir),\n",
    "    (\"val\", val_dataset, val_label_dir),\n",
    "    (\"test\", test_dataset, test_label_dir)\n",
    "]:\n",
    "    img_dir = os.path.join(base_dir, \"images\")\n",
    "    coco_label_dir = os.path.join(os.path.dirname(label_dir), \"labels-coc\", split)\n",
    "    os.makedirs(coco_label_dir, exist_ok=True)\n",
    "    if not os.path.exists(img_dir):\n",
    "        print(f\"Image directory not found: {img_dir}\")\n",
    "        continue\n",
    "    for img_file in os.listdir(img_dir):\n",
    "        if img_file.endswith(('.jpg', '.jpeg', '.png')):\n",
    "            label_file = os.path.splitext(img_file)[0] + '.txt'\n",
    "            label_path = os.path.join(label_dir, label_file)\n",
    "            coco_label_path = os.path.join(coco_label_dir, label_file)\n",
    "            if os.path.exists(label_path):\n",
    "                img_path = os.path.join(img_dir, img_file)\n",
    "                coco_labels = convert_yolo_to_coco(label_path, img_path)\n",
    "                with open(coco_label_path, 'w') as f:\n",
    "                    for line in coco_labels:\n",
    "                        f.write(line + '\\n')\n",
    "            else:\n",
    "                # If no label, create an empty file\n",
    "                open(coco_label_path, 'w').close()\n",
    "print(\"YOLO labels converted to COCO format and saved in labels-coc folders. Images untouched.\")"
   ]
  },
  {
   "cell_type": "code",
   "execution_count": 8,
   "id": "647b1d28",
   "metadata": {},
   "outputs": [
    {
     "name": "stdout",
     "output_type": "stream",
     "text": [
      "Test image directory: /mnt/d/23b6034/FYP/datasets/data/Dataset/test\n",
      "Test label directory: /mnt/d/23b6034/FYP/datasets/data/Dataset/test/labels\n",
      "Image files: []\n",
      "Label files: ['490_png_jpg.rf.c37a7b498dd0a60feeb0a4a612dfd3e6.txt', '490_png_jpg.rf.fe0acdfa0437f050e0cc3295b51d3823.txt', '491_png_jpg.rf.175fc24594a1e78077124b222c38fae0.txt', '491_png_jpg.rf.b65af9860e4a5c12bf99adc07769915d.txt', '491_png_jpg.rf.b7156f6fb74265dba24920a1a711f7c7.txt', '491_png_jpg.rf.e9c894e1f892a87168cd44e6c82e56c4.txt', '492_png_jpg.rf.01f43533631d061fa8008e2f1f1823fd.txt', '492_png_jpg.rf.3bdd9d62ccdfb25a52dadc0366ebbf7e.txt', '492_png_jpg.rf.436d02fbddbd6018b0683f3dd472437a.txt', '492_png_jpg.rf.6ed01463eabc182a42efdbd77134f08f.txt', '492_png_jpg.rf.b0d3b38291358698459448167f1a07ad.txt', '492_png_jpg.rf.d89710155ff64d07bc75938585dd1c22.txt', '493_png_jpg.rf.2f487ae65524aa3007dff280c5bd8d97.txt', '493_png_jpg.rf.7537bc6e976d01c7d56733674c398ed8.txt', '494_png_jpg.rf.1710e7527f31146ca99877b48f8fda15.txt', '494_png_jpg.rf.1a768f5d0e876561dc58c03e15ddbed7.txt', '494_png_jpg.rf.3657087ec4b59821061fccd14c00de53.txt', '494_png_jpg.rf.9c52f686f382eb7660a275ecf5d1d84b.txt', '494_png_jpg.rf.b1fd02733fec8e02304140898792692f.txt', '494_png_jpg.rf.e730c63463b061aca60020f2e8b66ff6.txt', '495_png_jpg.rf.16e268b7ce2b32e361d18ff30aab1d01.txt', '495_png_jpg.rf.85b6913c922421e78c75ae36dfe96bb1.txt', '495_png_jpg.rf.c847501385c3fab749a3fe0864d977e3.txt', '495_png_jpg.rf.cbaaff4d894bbbea56fbe81e5dd89076.txt', '497_png_jpg.rf.0da3907206ec0f0beb461cb1f9c2eb57.txt', '497_png_jpg.rf.20893d7f7ba99b7df1ea0ee0c4ff0eb9.txt', '497_png_jpg.rf.aead09b88aebc087e4c6d21771f8b950.txt', '497_png_jpg.rf.bc7353fb620d61a71837f111a28112d0.txt', '497_png_jpg.rf.cf267289e82a8077c6043da9bd77a652.txt', '498_png_jpg.rf.4f25e07b5fec6b29f543a8e9d5dcc0c9.txt', '498_png_jpg.rf.68391519f676f526577e85e00cba2180.txt', '498_png_jpg.rf.c602424d7c08d81cc99ce5111ea23484.txt', '498_png_jpg.rf.cac574b242b8921f92932fc11ab5b329.txt', '499_png_jpg.rf.6d259098b015c3331802470acdf72929.txt', '499_png_jpg.rf.b014a8e1064e991b3ff0c1ca2bc2be62.txt', '499_png_jpg.rf.fc2c497289fbf7d52dc721aff24c5e8e.txt', '500_png_jpg.rf.0d12b61b7ed9c4c22542ebbe13914794.txt', '500_png_jpg.rf.de66fc0bf9c71bf0cf2d9ae32556abe8.txt', '501_png_jpg.rf.7e3598cd83f8b4da99faee03d2b61547.txt', '501_png_jpg.rf.bfb8b04bae32575cd4c63847b8bf410e.txt', '501_png_jpg.rf.d7c3602fde94b4a4a73289e027e0a657.txt', '501_png_jpg.rf.fe51b1a1d11ea81c6d0dae06fb697646.txt', '502_png_jpg.rf.7a4533bf6f7b4ea66519e1b2ffd2f3e2.txt', '502_png_jpg.rf.8cd7852a458c414bdf3038bfcbf5927e.txt', '502_png_jpg.rf.be6a1cc95abae9bda8310a2faf340291.txt', '503_png_jpg.rf.084511c8d8126b8d3328f1ae8b54231b.txt', '503_png_jpg.rf.0a678dbdd03154e20fac02077e16192f.txt', '503_png_jpg.rf.0cd63731f0e11c7fb5f7c2c6a2012990.txt', '503_png_jpg.rf.df446ca96d828ac8731c87d7a2bcd1e8.txt', '503_png_jpg.rf.f17800b2becc478e235bbcdef24822ce.txt', '504_png_jpg.rf.7e0c4ab632517d0797f3587ad38c19e6.txt', '504_png_jpg.rf.bebf642e98ec6f835f145516c490e782.txt', '506_png_jpg.rf.17b2985906d40114707678aa056b2fad.txt', '506_png_jpg.rf.4d8374cbab4b871793e7f5da25758322.txt', '506_png_jpg.rf.5f2128a1cfde8efb81f51e196e4ec81f.txt', '506_png_jpg.rf.6b24b631548db74785bceafa3966b78c.txt', '507_png_jpg.rf.48b9180ba15a9a9760a550e41e25ff4d.txt', '507_png_jpg.rf.73f92a3efc22cdffd12185afcdf6d22f.txt', '507_png_jpg.rf.b31e22e38f24ea75b4f418993c64445c.txt', '507_png_jpg.rf.d497896fbe99e918e02da10800fdfaa1.txt', '508_png_jpg.rf.2580aaf55adb96d20540e13b18527d8d.txt', '508_png_jpg.rf.c60ed994e9c3ed7ac30a91602c941f7d.txt', '509_png_jpg.rf.6f0e56d78c37e54226c89d826cc18d12.txt', '509_png_jpg.rf.bc354cf42dbbfbd3f1bb110aaa5089e0.txt', '509_png_jpg.rf.e52c9a968005ff4b4c7df242cb1b2e2b.txt', '510_png_jpg.rf.5e52ff8df9be4c0452b6a7b83ad6b135.txt', '511_png_jpg.rf.7a91e1878d0befe1fee83bbd3f696d00.txt', '511_png_jpg.rf.a1d1a68e6e703bd940720d7497c11b60.txt', '511_png_jpg.rf.bb7480cc56423e994b4a33febf9a09c7.txt', '512_png_jpg.rf.7c65a546ed9ca2ebda6575eed02cce64.txt', '512_png_jpg.rf.7cbb2144fb250b762f7245526ab2026e.txt', '512_png_jpg.rf.b84ca326c7a0a8df33e24fc636fc6231.txt', '513_png_jpg.rf.0468462b0a926612781cddb54a49118f.txt', '513_png_jpg.rf.3053527b28efbe2d70d414e18a928034.txt', '513_png_jpg.rf.3b8d711dbfd6ecd5cdaf9e65b55cdd0d.txt', '513_png_jpg.rf.529f4a0ba1c223fdf1abef1c98ccf1d7.txt', '513_png_jpg.rf.648900ff83b77cb5f566f4b3166e2260.txt', '514_png_jpg.rf.05657707c74af67a59005cba8d57d602.txt', '514_png_jpg.rf.1a0d61506548dbd069ac402f17f65ad3.txt', '514_png_jpg.rf.5a1273505039687b1da5de5fd17da358.txt', '514_png_jpg.rf.d323c55d9e55a0016a29ba9abd94a95c.txt', '515_png_jpg.rf.2006f6933283844da0b29e78a402414f.txt', '515_png_jpg.rf.b2cbbea565997af89c5bef8e87df26c3.txt', '515_png_jpg.rf.cca898d74ba569566f08c96ba502528d.txt', '515_png_jpg.rf.e8a8c9501961cdd767c7c13ea4b73e12.txt', '516_png_jpg.rf.58281c6928c4e737fc5f498e646ef181.txt', '516_png_jpg.rf.5ea97952427b89d4120778314a9bbc33.txt', '516_png_jpg.rf.6c5edb1f878a4077cf4103963f1439ff.txt', '516_png_jpg.rf.b74c008e5900b114161e309326487b4c.txt', '517_png_jpg.rf.14e73270bd2013822b5e90ff6122de33.txt', '517_png_jpg.rf.31927db89eff8a21952590ee3b7498da.txt', '517_png_jpg.rf.b7ca5f810713cec6fa382fc50e05590b.txt', '517_png_jpg.rf.fd7e3d64200dbeaf7536305f84dc41ad.txt', '518_png_jpg.rf.1768d828ad2c2d4473ac71775611748f.txt', '518_png_jpg.rf.222bb216a1f2aa4c0757fd22e7a005c1.txt', '518_png_jpg.rf.687c52e532e05ff8bb1f735dcbe98584.txt', '518_png_jpg.rf.9b18772badaf1909bbd6f63b2eeb1671.txt', '518_png_jpg.rf.f3057c9e0533c68ebdc2443bd6fd9b30.txt', '519_png_jpg.rf.6a9d142cc7b1b014eeb82d3dfa9cac55.txt', '519_png_jpg.rf.96ff720a10257099515483ad03a2568d.txt', '519_png_jpg.rf.b3763df2dae1b1cf73af662af1d89eaf.txt', '519_png_jpg.rf.f38458e355850c141fe89245e6b84a35.txt', '520_png_jpg.rf.15684fd46558af038b31f826928201d0.txt', '520_png_jpg.rf.5d286265230753cb3d697e3c5208d52f.txt', '520_png_jpg.rf.648b36f4f8878c6d84849ee33d837ec4.txt', '520_png_jpg.rf.74eee9a224cf49bd307eb5aa29c258b0.txt', '520_png_jpg.rf.904ecbc4602f4e442b878252a1f8e733.txt', '520_png_jpg.rf.e83ddbfa10630c3766dfc3163b9de688.txt', '521_png_jpg.rf.40b8c868e2b06d5cc27e0168e80d8273.txt', '521_png_jpg.rf.474911b402efec4636a0aed6e732b278.txt', '521_png_jpg.rf.d3739ff3149f3491cfcca9eac2c0ca49.txt', '522_png_jpg.rf.2b00934592cedc1deed27c41684ebbda.txt', '522_png_jpg.rf.8003fdc71238d1210088f3ceff4938de.txt', '522_png_jpg.rf.8c655e8b5580c8f76b9b64837dd5ead2.txt', '522_png_jpg.rf.a839cc3a2721718adceb8eb7071c298f.txt', '523_png_jpg.rf.25bc07f2901fe4e343939c420e0ae7b0.txt', '523_png_jpg.rf.436ccb6969867fd7beb8202fb0a42303.txt', '523_png_jpg.rf.7109f3fd757abc9f843c4d9664ae2897.txt', '523_png_jpg.rf.886c0c6f7516c19043a093bd3af2f690.txt', '523_png_jpg.rf.8a096aeb3b95dc5314321aaf26833a90.txt', '523_png_jpg.rf.aaa402ac802ef737bd18005b34d9935c.txt', '524_png_jpg.rf.590a9d15cd0623afce1914db49af4635.txt', '524_png_jpg.rf.8796ba4d3df9264c07c129f3787f74a6.txt', '525_png_jpg.rf.39967b5181522390d1256f11f6a11160.txt', '525_png_jpg.rf.40047048215708613111de70aa5f2af4.txt', '525_png_jpg.rf.4189d5546f7410776444af1a0db0d404.txt', '525_png_jpg.rf.465926b57d94c0426e50379d2e2dc3e3.txt', '525_png_jpg.rf.60a5d9a00a2e5ca244dda5cfb3c7a2cc.txt', '525_png_jpg.rf.644ccf221d952383c433f2ec0ecd4f40.txt', '526_png_jpg.rf.0541f1e4435fe9af1743c4ee30830379.txt', '526_png_jpg.rf.85094d75df59225ade1e8c4d65c39fc7.txt', '526_png_jpg.rf.953387aa41d7b05e19d5c45288bebde9.txt', '526_png_jpg.rf.9aaed424eec66d5243e880b855d08455.txt', '526_png_jpg.rf.d5528c308169691a5c7e1f2afc87719a.txt', '527_png_jpg.rf.48a29c66a5dcdfa43838e63a247fb1ad.txt', '527_png_jpg.rf.9348fe927002c0fbf6672fbdc48a20b6.txt', '527_png_jpg.rf.f5e27bc7e83e40848cc457d4971a99c4.txt', '528_png_jpg.rf.003636b849423dbd02f7e9c2fe4630e8.txt', '528_png_jpg.rf.4668b78e997b9bcdceac534086979438.txt', '528_png_jpg.rf.b482f38d24adf4d65667999b2efea771.txt', '528_png_jpg.rf.c7eb764fd4b2a6615f10e6b0472fe554.txt', '528_png_jpg.rf.d13e7839f62aaca706f21f14ddfe62e0.txt', '529_png_jpg.rf.36876fabe06ddef82eb05f2494e1c951.txt', '529_png_jpg.rf.8b136e1507868e2daaf52c903267d59e.txt', '529_png_jpg.rf.96d38640f66ec4a42f2814af18779d13.txt', '530_png_jpg.rf.42237bacf942356255d722ab88578c0d.txt', '530_png_jpg.rf.bf8b6c7c6c59151f209bad7d354a7477.txt', '530_png_jpg.rf.c8fcbdcabad86ffa2855e8495c4055de.txt', '530_png_jpg.rf.caffb5b61c85c25ee5cc8e072c6e626e.txt', '530_png_jpg.rf.f340b1b56955fe5484f54703ce7c508a.txt', '531_png_jpg.rf.2c0d91fa3cb5ed524c2e88ec0bde852f.txt', '531_png_jpg.rf.3fab0ef8f05ec1512115cb3c00a12a82.txt', '531_png_jpg.rf.8cef025a2b373c8ba4ae81913c025991.txt', '531_png_jpg.rf.b11737e9050696920799385759ee4aed.txt', '531_png_jpg.rf.bfba33bc37d59dc250c3dde342566522.txt', '533_png_jpg.rf.4138e1f9f9a504605d60e871bd717bfa.txt', '533_png_jpg.rf.fb88dfa972ca1e9aefc250b2fee7158b.txt', '534_png_jpg.rf.02ce6e60f8ad7b8cfa80169df7579068.txt', '534_png_jpg.rf.466abecb81cfe09b06a082851f2fcfe4.txt', '534_png_jpg.rf.e05aa0411eb028a0ce6d8279de070683.txt', '535_png_jpg.rf.782df4cb26109ebf4dbf92c1bd9fa69b.txt', '535_png_jpg.rf.b3ce4f68ad8b74b83ad9ffec37cf5156.txt', '535_png_jpg.rf.e4715bb96aec61533acc5236b91e011b.txt', '536_png_jpg.rf.8fa8830ac6f1739e7a2300aade038e84.txt', '536_png_jpg.rf.d57da13e7a1589deb9c6b504e5406d88.txt', '537_png_jpg.rf.06558a95616efc5e618d6d1e92654f91.txt', '537_png_jpg.rf.44c1a50d69a51306b03767278dc8ebd8.txt', '537_png_jpg.rf.5405b1fa0a533c2761e45e24b0a7cf70.txt', '537_png_jpg.rf.e1747f2651811de7dead8c3ff5766ba5.txt', '538_png_jpg.rf.9ba3d4bb5d9016c1cb3a628355907b7b.txt', '538_png_jpg.rf.a9aba47da8a0f71a6d82d2e75f66345f.txt', '538_png_jpg.rf.f151e6422aa8011ed6e7d48c1108968f.txt', '538_png_jpg.rf.fa7b4e1ab7b7d32e93cc706c25c6f881.txt', '539_png_jpg.rf.4dd77ee1be4b3e41db392e6462fac3a6.txt', '539_png_jpg.rf.53683e83eac39c527fd1f2d4421b039e.txt', '539_png_jpg.rf.646c13985aad8887ac6eed035d9b4a5c.txt', '539_png_jpg.rf.83eb9d16f2d743c218a676bf8c373027.txt', '540_png_jpg.rf.1c4ae47974b77dc3b3b4e777acd4676c.txt', '540_png_jpg.rf.8913f1d23466ffc1a9e420a5a72fd94d.txt', '540_png_jpg.rf.d2985d225fc33333b1e5df23317b5a1e.txt', '541_png_jpg.rf.07cd4f14bcae08ff759729bdead1def5.txt', '541_png_jpg.rf.1ffac6002ff9e6d78bb3e7bb8b11bd88.txt', '541_png_jpg.rf.2626e289ae320c91fa6370f8005004ad.txt', '541_png_jpg.rf.6902b1533cf0afa3dea5db600b9adff1.txt', '541_png_jpg.rf.af87021441ae80f9169a54e362c49b62.txt', '542_png_jpg.rf.176adb44d1c86f438cdcdb5f954558ed.txt', '542_png_jpg.rf.e94417899d80b41a3d3f926d1cfd413f.txt', '542_png_jpg.rf.f86b0369ca092554f75e5c50a8712e2b.txt', '543_png_jpg.rf.0538358dd75ae81de785f65fc5c01a1b.txt', '543_png_jpg.rf.29b864464c1745aa7fce28a4ec5cf88f.txt', '543_png_jpg.rf.353cb410ad1235697c6aa97996bf61ef.txt', '543_png_jpg.rf.6707dd8420a601b8fc73d117d5a72a75.txt', '543_png_jpg.rf.8a697f2cffcfd02f4d3b38af417d3a88.txt', '544_png_jpg.rf.154a14421f8f86d7fc815969d6e94d09.txt', '544_png_jpg.rf.7b43c413bf8435a62dc92719e9670c3a.txt', '545_png_jpg.rf.4e9474f6f5a7b40414b6c34054c1f4e9.txt', '545_png_jpg.rf.a2003c8389fbff6d84843a007d9e9ba7.txt', '546_png_jpg.rf.08fe8c1e0f87f24fd02cc8cbf5c41586.txt', '546_png_jpg.rf.64a0218aaf3e41f5c108814b981929b7.txt', '547_png_jpg.rf.6f82ebdbe012ced5588668de1f8775ef.txt', '547_png_jpg.rf.8e584459690a09c310b6e2be210f3aa9.txt', '547_png_jpg.rf.bf1bc5c8ae509b9a3ccf22a4135aeba5.txt', '547_png_jpg.rf.ec789fe5a1cac31fcc5e0fa824897973.txt', '548_png_jpg.rf.10ee9663fee627097f453f03251dfef0.txt', '548_png_jpg.rf.54e34da657f3e1f3eee6dcb028c1d532.txt', '548_png_jpg.rf.835130aa4b96f7f54730f3002fe9ff53.txt', '548_png_jpg.rf.fcb0f2e869959e261c22d6597954d7ba.txt', '549_png_jpg.rf.1caa071f3d99b368eb1aa73f93705365.txt', '549_png_jpg.rf.6eb5f2573a263cdcff6d60b7be3edf14.txt', '549_png_jpg.rf.760871018ad96af596f0010dfc1c2e82.txt', '549_png_jpg.rf.b782642aac3846a65281554828f4b2c0.txt', '550_png_jpg.rf.a0a5d8e88963bc94ddedd4a416a60b90.txt', '550_png_jpg.rf.cbeb674819fb0016983c00a7a3c6efaf.txt', '550_png_jpg.rf.e76acf75ee28ee89d9dc19ce539e859f.txt', '551_png_jpg.rf.7973faa5b31543ccb0ef8e5489bdf14b.txt', '551_png_jpg.rf.a1f23c7149be5fc92254ab4745ff9d06.txt', '551_png_jpg.rf.c1680faaa0656aa30b37ece1b5de1111.txt', '551_png_jpg.rf.c832901e3b4561084ae92b295b5f631e.txt', '551_png_jpg.rf.fbd733cf00cdc1a982d2d05d7e296872.txt', '552_png_jpg.rf.6c8055f88f65d23538dfa6867c2f26c8.txt', '552_png_jpg.rf.8bd751665a37662776ecba6a0652a310.txt', '552_png_jpg.rf.f8caad265f0690014be3df807e7e8b7a.txt', '553_png_jpg.rf.bc0f665e2724b34e5de94636cc79c2f0.txt', '553_png_jpg.rf.e6c3c3c99cc7119c250f0fb85775c015.txt', '554_png_jpg.rf.63d0ec37f0bf5ce1edb6364a9403c42a.txt', '554_png_jpg.rf.860fcc3a797fedd17a03d31a1af6c786.txt', '554_png_jpg.rf.e207dafbabd8b4290205f70b795e43a0.txt', '554_png_jpg.rf.f2562a6de8d1027a4cf429ffe2240b2a.txt', '554_png_jpg.rf.f9737cf2970a2512b515818b4073917b.txt', '555_png_jpg.rf.b4ff0dde78170f8e914c4e09cb22ab76.txt', '555_png_jpg.rf.d28600c8167a2b86251c15d5facd7b50.txt', '555_png_jpg.rf.ef80ea9d9266a9eac243b99c739f9e91.txt', '556_png_jpg.rf.29412812be76b8607cca14811712687a.txt', '556_png_jpg.rf.4773563fba682c9b7bf1440a737d6b8f.txt', '556_png_jpg.rf.529a53fbfd7ff227b47b03c702787ce2.txt', '556_png_jpg.rf.82982319764ecb3eec74cf17800d38da.txt', '556_png_jpg.rf.ac0095880b755c2e5a46140734d0224a.txt', '556_png_jpg.rf.ff0eb959c0943ae230a0823edf627548.txt', '557_png_jpg.rf.282f3cc3cc024f5701fb75ca019c9424.txt', '557_png_jpg.rf.33a314b7dcd31806a4c6ee324661e64f.txt', '557_png_jpg.rf.9e42d944a57e4fcb2f6440e95c2d3800.txt', '557_png_jpg.rf.f75574922b69f2ae9cb2a5a1d100b0b3.txt', '558_png_jpg.rf.5c78f179c46ee32c0bd1d75f26a4f235.txt', '558_png_jpg.rf.dee55273f6f0a14a2691954687dfd8e6.txt', '558_png_jpg.rf.f4ddde9e9f860e4210f4efcda9957eaf.txt', 'bigstock-Woman-With-Face-Mask-Going-Hom-358449329_jpg.rf.022a93b944b2cae744e17adf7ccd45c5.txt', 'bigstock-Woman-With-Face-Mask-Going-Hom-358449329_jpg.rf.68b3e4cc4b6e6900f6e221411926fc51.txt', 'bigstock-Woman-With-Face-Mask-Going-Hom-358449329_jpg.rf.dfa0ee4e1c210ed83bd1125b159d16df.txt', 'bigstock-Woman-With-Face-Mask-Going-Hom-358449329_jpg.rf.e587e15099900ce295e4b232579d8223.txt', 'bRB23982_2020-08-17_12-57-06_002579_jpg.rf.d3fd6bf36152853f9df754db2de9d871.txt', 'bRB23982_2020-08-17_12-57-06_002580_jpg.rf.90a87a30009435dd2f739a3ab2d88a2e.txt', 'bRB23982_2020-08-17_12-57-06_002581_jpg.rf.87bc2b69f174e3363ec5a49a889a2822.txt', 'bRB23982_2020-08-17_12-57-06_002582_jpg.rf.f9a0cb22815a51a56321d91d2f80a19d.txt', 'bRB23982_2020-08-17_12-57-06_002583_jpg.rf.30fba16eed7138c612bca349687d638f.txt', 'bRB23982_2020-08-17_12-57-06_002584_jpg.rf.9d11ee0ba9106a3ab002b7b2179aa691.txt', 'bRB23982_2020-08-17_12-57-06_002585_jpg.rf.52064d81f296fe0e86b1ab6ad5cfda2d.txt', 'bRB23982_2020-08-17_12-57-06_002586_jpg.rf.11c8fac38305bc04856abb3f347799f8.txt', 'bRB23982_2020-08-17_12-57-06_002587_jpg.rf.a2b91a502a4f1199a2f5960347a7e3f4.txt', 'bRB23982_2020-08-17_12-57-06_002588_jpg.rf.5f62382e5280a33b7debc0527d154f3e.txt', 'bRB23982_2020-08-17_12-57-06_002591_jpg.rf.50120c3b6f697e73db1bd02b635ba18d.txt', 'bRB23982_2020-08-17_12-57-06_002593_jpg.rf.478085d13b887cda61eba177df7178d5.txt', 'bRB23982_2020-08-17_12-57-06_002594_jpg.rf.5983c028fb3dd6d109dc1417b403f614.txt', 'bRB23982_2020-08-17_12-57-06_002595_jpg.rf.9d3098962544f40af28e26d94eaa5101.txt', 'bRB23982_2020-08-17_12-57-06_002596_jpg.rf.d00ae5653c40149b5084da8806ef0770.txt', 'bRB23982_2020-08-17_12-57-06_002597_jpg.rf.d7705fd4eb42b8805966184f86233b43.txt', 'bRB23982_2020-08-17_12-57-06_002599_jpg.rf.2e6e76e3bf152ef415468a9364933689.txt', 'bRB23982_2020-08-17_12-57-06_002601_jpg.rf.89f2b54375583491fe25a71bdd6b618f.txt', 'bRB23982_2020-08-17_12-57-06_002602_jpg.rf.260314063c5c9e9e53a6bb93edb32149.txt', 'bRB23982_2020-08-17_12-57-06_002603_jpg.rf.46d2e568fa493897d2b29c55f7a17fd6.txt', 'bRB23982_2020-08-17_12-57-06_002606_jpg.rf.0b7903966babc4c56c58a4851493f416.txt', 'bRussian-Military-Experts-Visit-NATO-led-Exercises-in-Europe_jpg.rf.d6d5cbdb6701d94da6dc44306aade197.txt', 'bScreenshot-2022-11-05-084332_png_jpg.rf.241b68c81f44f7447cebb17cf81eb67b.txt', 'bScreenshot-2022-11-05-084332_png_jpg.rf.5a442126296e7f0c7eeee6dede5e03e2.txt', 'bScreenshot-2022-11-05-084332_png_jpg.rf.92a904ffa5a898a8d784e32d52950c55.txt', 'bScreenshot-2022-11-05-084427_png_jpg.rf.c8410ca7a0aba0012626e3fd70d32f68.txt', 'bScreenshot-2022-11-05-095742_png_jpg.rf.389ec97e71c3ce926ef5ae8c4e9ee5be.txt', 'bScreenshot-2022-11-05-095742_png_jpg.rf.a9cd6ad621671a16ff04b1ff1fe7e7a5.txt', 'bScreenshot-2022-11-05-095808_png_jpg.rf.0bb98324136a7d698700e5f7e0dd3f8b.txt', 'bScreenshot-2022-11-05-095808_png_jpg.rf.3cb4fc560748990c7d585253e2ed40c9.txt', 'bScreenshot-2022-11-05-095808_png_jpg.rf.668f73bbbd005d33f5f44d169b1e906b.txt', 'bScreenshot-2022-11-05-095808_png_jpg.rf.9e050d5c234b1a08d857dc2e4907b381.txt', 'bScreenshot-2022-11-05-095808_png_jpg.rf.d2543fbe6c725838efbf357d578e26c7.txt', 'bScreenshot-2022-11-05-095829_png_jpg.rf.1ef606e546bb1940049b66c494e9e7e2.txt', 'bScreenshot-2022-11-05-095829_png_jpg.rf.231ece5a3581c5b405a5ab4afffd77ed.txt', 'bScreenshot-2022-11-05-095829_png_jpg.rf.3feb547bd720b0c4742ef770499d68b7.txt', 'bScreenshot-2022-11-05-095829_png_jpg.rf.79a2748496bd02fb87b68aef907a592d.txt', 'bScreenshot-2022-11-05-095829_png_jpg.rf.bcf472451d85e58fb2f5c2f3b110ee47.txt', 'bScreenshot-2022-11-05-095907_png_jpg.rf.57d9bf4f61954d37ce0203377376209a.txt', 'bScreenshot-2022-11-05-095907_png_jpg.rf.62d367ed0f92ca184acb0704b2b6e273.txt', 'bScreenshot-2022-11-05-095907_png_jpg.rf.66793d53c847bca16ef037f1bfaaff5a.txt', 'bScreenshot-2022-11-05-095907_png_jpg.rf.7b03f52f404caf68df1190b384de2a8c.txt', 'bScreenshot-2022-11-05-100028_png_jpg.rf.14a4c38044ce6225381109daad62e2db.txt', 'bScreenshot-2022-11-05-100028_png_jpg.rf.15a9374157266b37cb4e7fa8b75014a8.txt', 'bScreenshot-2022-11-05-100028_png_jpg.rf.60df89c0e90dc394a91563eee50478d5.txt', 'bScreenshot-2022-11-05-100105_png_jpg.rf.4886017958778058e0a9739092da2cf8.txt', 'bScreenshot-2022-11-05-100105_png_jpg.rf.5a97243ff21d7fedf01a865d4f385fdb.txt', 'bScreenshot-2022-11-05-100105_png_jpg.rf.d9efe810baf3a60254d74e70cf1dfb22.txt', 'bScreenshot-2022-11-05-100115_png_jpg.rf.1256e84a9271138e26f463de4aa9cada.txt', 'bScreenshot-2022-11-05-100115_png_jpg.rf.4716d50ae236d7dc2e85f16e70060430.txt', 'bScreenshot-2022-11-05-100115_png_jpg.rf.5435fd25afbc866034a805cd6c06a57f.txt', 'bScreenshot-2022-11-05-100315_png_jpg.rf.3b266ad4b764aa58da75566eba1ac7c4.txt', 'bScreenshot-2022-11-05-100315_png_jpg.rf.7ab07166066ce1d108446c818359f566.txt', 'bScreenshot-2022-11-05-100315_png_jpg.rf.ae67a769dd14272195f9336aacbf9877.txt', 'bScreenshot-2022-11-05-100315_png_jpg.rf.b9d0946a1afc1ac5b77e20e656d9996d.txt', 'bScreenshot-2022-11-05-100315_png_jpg.rf.dad41886da0eb568d4555e4ba600dd88.txt', 'bScreenshot-2022-11-05-100734_png_jpg.rf.6cf83b80d3d753d2480ebd74aede5f50.txt', 'bScreenshot-2022-11-05-100734_png_jpg.rf.dccdc27e875bbe7785baac818c75e528.txt', 'bScreenshot-from-2022-12-23-17-52-56_png.rf.e49c896581eeccc39c5478473706047e.txt', 'bScreenshot-from-2022-12-23-17-53-51_png.rf.36f4dc436d52e522ba1bc7815bb71af3.txt', 'bScreenshot-from-2022-12-23-17-54-33_png.rf.479f6c5702c2083fddcc9d687f6cba07.txt', 'bskynews-ukraine-russia_5701408_png_jpg.rf.2ace1231fcf908984026671b5c03fff6.txt', 'bskynews-ukraine-russia_5701408_png_jpg.rf.54df9cd609a90056e54ecbe901f89e45.txt', 'bskynews-ukraine-russia_5701408_png_jpg.rf.72355a9146185a33654daaf4276708ae.txt', 'bskynews-ukraine-russia_5701408_png_jpg.rf.e9004c267de0d1a5d5379dec46e4bb7e.txt', 'bss_f30961784b2575f74296a23e726333e4718e05b7-1920x1080_jpg.rf.ab831f61b72b5cbb7275fb52d8d8a95e.txt', 'bss_f30961784b2575f74296a23e726333e4718e05b7-1920x1080_jpg.rf.e48f558abb3390f30058fa34add4d456.txt', 'bTankim_mp4-10_jpg.rf.b6700105d480fb0279fba7c9bdbd32e0.txt', 'bTankim_mp4-11_jpg.rf.1b21c027a20f9bb6b5e6715e6ec6270b.txt', 'bTankim_mp4-121_jpg.rf.6404a9b5e980b2a4e5e2a9e040405327.txt', 'bTankim_mp4-122_jpg.rf.a8b1ab60910242160066c2dac8827ace.txt', 'bTankim_mp4-126_jpg.rf.ef5af56d7eb565c76dca79adebf48300.txt', 'bTankim_mp4-127_jpg.rf.924b1002324ebe5cfbe779016c7b4b3a.txt', 'bTankim_mp4-128_jpg.rf.894681c9e1402bf03d7fbd6bdd3cd9f7.txt', 'bTankim_mp4-129_jpg.rf.d61e0535b91c8c578ff25b727478dd0c.txt', 'bTankim_mp4-12_jpg.rf.3e17200279d8f8b916b3d6e4601293e7.txt', 'bTankim_mp4-12_jpg.rf.bfffc87c001f6d3a8cfcad004b934ae9.txt', 'bTankim_mp4-130_jpg.rf.10f2b16b067744d66ba79a37d85658c4.txt', 'bTankim_mp4-132_jpg.rf.c7fa847d26e0ad5ea566254e756a0fb9.txt', 'bTankim_mp4-133_jpg.rf.6b3ac4cbb218e461f36a7c2ed90a7437.txt', 'bTankim_mp4-134_jpg.rf.6cd4b844a64ae972532dbf2a03233434.txt', 'bTankim_mp4-135_jpg.rf.1eb426c11f54069cff4ce4aa30cb0cc2.txt', 'bTankim_mp4-136_jpg.rf.49309175dbedd6ac018308a91c9878cd.txt', 'bTankim_mp4-138_jpg.rf.5ac8eb63c4fb408e56270e1518f5618e.txt', 'bTankim_mp4-139_jpg.rf.d8b067be5d4f94d8d6c91b0918c268ae.txt', 'bTankim_mp4-13_jpg.rf.507e9f47e02892c99e625ccabad8231f.txt', 'bTankim_mp4-140_jpg.rf.6f2869f7b3ca40dcfd4012888927a375.txt', 'bTankim_mp4-141_jpg.rf.21564fda7953b91571be9cad51d9f7e6.txt', 'bTankim_mp4-142_jpg.rf.a1213f174d40429de8ace04f6f407792.txt', 'bTankim_mp4-143_jpg.rf.492129e9d6ce1cd9af04b20a78695981.txt', 'bTankim_mp4-144_jpg.rf.9b3030c4c28f59f5b0405154d9f96bd0.txt', 'bTankim_mp4-145_jpg.rf.2669260ae9f22704a4c6651a8a13cf93.txt', 'bTankim_mp4-146_jpg.rf.226d42fd596d6dd483e1d6101bd01127.txt', 'bTankim_mp4-147_jpg.rf.0cc627fe541441c5f2727f52a2713047.txt', 'bTankim_mp4-148_jpg.rf.298d4325d47ddb21403ac06503f5c626.txt', 'bTankim_mp4-149_jpg.rf.603b3b378ca094907344b7ad616853b8.txt', 'bTankim_mp4-14_jpg.rf.b2ccd493922406d233c434562c63df05.txt', 'bTankim_mp4-150_jpg.rf.f79175adc8d73a5ba71c75ef4078880e.txt', 'bTankim_mp4-151_jpg.rf.a69b100a8c41e6b71cb7e089b2f663f3.txt', 'bTankim_mp4-152_jpg.rf.b281ed879b7d1d8f7c98189540ddfea6.txt', 'bTankim_mp4-153_jpg.rf.a413b5aa2fa13314bf6ea5358d7bde5b.txt', 'bTankim_mp4-155_jpg.rf.4d6b57126d65efc5148cc30afd0534b7.txt', 'bTankim_mp4-156_jpg.rf.9cbeae176f54261c96f07daf12ab0bac.txt', 'bTankim_mp4-157_jpg.rf.0240c2e0fd8392704d0af31076c72daa.txt', 'bTankim_mp4-15_jpg.rf.19e380821b6e19200c14d27bb1ffaf57.txt', 'bTankim_mp4-15_jpg.rf.733bc9493a3d602c78653cb57ee73297.txt', 'bTankim_mp4-160_jpg.rf.bbaa18a1b56525a421bbf53896598e50.txt', 'bTankim_mp4-163_jpg.rf.9a4cdb67ed1d02ad65d5665f94ec6332.txt', 'bTankim_mp4-165_jpg.rf.3c94ad048ae838e54852b2faf84aa595.txt', 'bTankim_mp4-166_jpg.rf.f834da76975ef0cf360946edbd3c193d.txt', 'bTankim_mp4-167_jpg.rf.ff6f47c0d376a4677175838156a0db06.txt', 'bTankim_mp4-168_jpg.rf.6ef7bb9a7b9adaf10df48a36d9a69ae0.txt', 'bTankim_mp4-169_jpg.rf.5c35660dabda1b8921f23794858bff6b.txt', 'bTankim_mp4-16_jpg.rf.7a5e2fda894e28edf5a7648f38b94877.txt', 'bTankim_mp4-170_jpg.rf.fb4ed3bb8a9d12ae9c65808afb077ea7.txt', 'bTankim_mp4-172_jpg.rf.0f1fb7ecc2863f3818789d9a7b815ba2.txt', 'bTankim_mp4-174_jpg.rf.392f83bfdfa2e02775eab49a8c573cc5.txt', 'bTankim_mp4-175_jpg.rf.68d22b9a6555bd0a6e99b0ab4db0d596.txt', 'bTankim_mp4-176_jpg.rf.526bca228cccf1f86bc0748100ed7de4.txt', 'bTankim_mp4-177_jpg.rf.52f6ac03ebb0bcdccc08d5aad6460dba.txt', 'bTankim_mp4-178_jpg.rf.70d0e73cccd457c96d633643fd0e7848.txt', 'bTankim_mp4-179_jpg.rf.59b29732c3e33b29372fb8805f5bd418.txt', 'bTankim_mp4-17_jpg.rf.b74df9c2d21e2a5f9a5aee61eaa16705.txt', 'bTankim_mp4-17_jpg.rf.c55f91ea580bfb54d20b25f29d3f72b7.txt', 'bTankim_mp4-180_jpg.rf.12b4fabc7ddd2b4b20c79bf4deb4d0c2.txt', 'bTankim_mp4-18_jpg.rf.e2d97511e1b03edc4495e2d876550efd.txt', 'bTankim_mp4-191_jpg.rf.059af01edec7d689eb903092d6705f2d.txt', 'bTankim_mp4-192_jpg.rf.1a71e2de5c0ce59061ccf24d9f69bfa2.txt', 'bTankim_mp4-193_jpg.rf.c174253f560780e7f0d74f5117cfd327.txt', 'bTankim_mp4-194_jpg.rf.f337d77f54c4c8df33eaa68c92cb51eb.txt', 'bTankim_mp4-195_jpg.rf.a2b0cb1b537c3d2b63b5f56d97b1ce72.txt', 'bTankim_mp4-196_jpg.rf.6a0fdbe42bd16f171c55eb120379c006.txt', 'bTankim_mp4-197_jpg.rf.1ef2bc84d24e5ee147f0f9dd4ff1308a.txt', 'bTankim_mp4-19_jpg.rf.31bd12d7654c29c69805c44cd9171925.txt', 'bTankim_mp4-19_jpg.rf.5c22e38e71114080e43ddd7194791ea8.txt', 'bTankim_mp4-200_jpg.rf.79a7c8b27f87d985e53c12684cec348e.txt', 'bTankim_mp4-202_jpg.rf.3b6428518484a3b000328257879545aa.txt', 'bTankim_mp4-203_jpg.rf.16a831de2b3d8b15b6d21225b93cb93f.txt', 'bTankim_mp4-204_jpg.rf.1f70e46fc92466c4be4a3ff3bd6e81f0.txt', 'bTankim_mp4-205_jpg.rf.76e38944f48bfe2daf0634a531cbd06c.txt', 'bTankim_mp4-206_jpg.rf.b5be7efdf49f5591a81ec49300a22989.txt', 'bTankim_mp4-209_jpg.rf.2281e75b731bcb9e470dc06922bc7f0d.txt', 'bTankim_mp4-235_jpg.rf.ccc6b3ab29685c145f49b359c4f5ad29.txt', 'bTankim_mp4-25_jpg.rf.618658f911be90b5cada57da41d398f1.txt', 'bTankim_mp4-26_jpg.rf.973acd406f62bca8e9c87cabf6e62cb8.txt', 'bTankim_mp4-27_jpg.rf.bbce35dca4e0f6b24d12858332eef729.txt', 'bTankim_mp4-27_jpg.rf.e49c1984b31e27d4a4d59219f4782d79.txt', 'bTankim_mp4-282_jpg.rf.9ea62e2d065e6af9992c0e53a448af6f.txt', 'bTankim_mp4-28_jpg.rf.45266d9b974244062056c3cb9a10c799.txt', 'bTankim_mp4-28_jpg.rf.53385519ee078bf296f374e23b3fdf79.txt', 'bTankim_mp4-2_jpg.rf.0c13509a75d280fcdd8d7018c23a7116.txt', 'bTankim_mp4-30_jpg.rf.42ca4869104a8e49018e911ca41c69f6.txt', 'bTankim_mp4-31_jpg.rf.37181e0da8d237082d07ebba5a1ec7ca.txt', 'bTankim_mp4-329_jpg.rf.5becffcef0ef2e93756d9537883d76de.txt', 'bTankim_mp4-32_jpg.rf.354a272b4dd0d379e4ac1ddd920f0522.txt', 'bTankim_mp4-32_jpg.rf.62c2a9490632d85a351edd123aa70c50.txt', 'bTankim_mp4-33_jpg.rf.06235f17556b525d868ebf73b1fd57c6.txt', 'bTankim_mp4-33_jpg.rf.6824b9d95341df42ff6790a481477031.txt', 'bTankim_mp4-34_jpg.rf.3e3d57e15929f032a26a0b5996b669fa.txt', 'bTankim_mp4-35_jpg.rf.3365494ebce9390d484f0b5744f7268d.txt', 'bTankim_mp4-35_jpg.rf.90067d2e89da8fc89a2b80b6f4d91927.txt', 'bTankim_mp4-36_jpg.rf.34c876d902218be7e09150ffe0679785.txt', 'bTankim_mp4-36_jpg.rf.950a2218fda437750c55ca2cb13c0c69.txt', 'bTankim_mp4-37_jpg.rf.0d375cd6a0fc034bcbbada2da4d1ac8a.txt', 'bTankim_mp4-37_jpg.rf.2b4766b2a3598d54c420ce227edf4958.txt', 'bTankim_mp4-38_jpg.rf.64085c58a4f8e327bc6e7c22d0263eea.txt', 'bTankim_mp4-38_jpg.rf.d0bbcb063a28f575468a545ff809e0dc.txt', 'bTankim_mp4-39_jpg.rf.ad5098acdd169dcacb075922e0437908.txt', 'bTankim_mp4-3_jpg.rf.9ad8087b900e3cd43a4dd246d5b4f41c.txt', 'bTankim_mp4-41_jpg.rf.f1fc1d1ff9470a1e8fb190dbc343293e.txt', 'bTankim_mp4-43_jpg.rf.0d619598beebbe5a763ae891b3fcd77f.txt', 'bTankim_mp4-44_jpg.rf.8ad4c14295f322098c27d702dc2af0b3.txt', 'bTankim_mp4-44_jpg.rf.df516bdf9d5d7757166f3186a365c5a6.txt', 'bTankim_mp4-45_jpg.rf.bae1087acd797c7ad38c1f3dc5ba730c.txt', 'bTankim_mp4-46_jpg.rf.443bc1173fba9ae06e6190a0fff9e00a.txt', 'bTankim_mp4-46_jpg.rf.eed99b77bedbfbba5e2354f826d8826b.txt', 'bTankim_mp4-48_jpg.rf.abcc8d6c97ba8ea7cc527234f55ab44e.txt', 'bTankim_mp4-48_jpg.rf.fa981c1c4e85988bc3c7021fee1403fa.txt', 'bTankim_mp4-51_jpg.rf.836e254f466c5ca66081c2b981560a01.txt', 'bTankim_mp4-51_jpg.rf.a40279ca183b7f7b6da12e7c709faab1.txt', 'bTankim_mp4-52_jpg.rf.965bf18e14d0d5820c7476f43334c348.txt', 'bTankim_mp4-53_jpg.rf.6f53c075a673e99175688cb11030121c.txt', 'bTankim_mp4-53_jpg.rf.87a60306c4c9ae8f3fe55f52b1e545e0.txt', 'bTankim_mp4-54_jpg.rf.e7d7e50998ca868e1b226fdf6e769848.txt', 'bTankim_mp4-55_jpg.rf.607e37bc496c3150c47bc7c045d2b470.txt', 'bTankim_mp4-55_jpg.rf.cd3605515e63d113dcc0dff4699754da.txt', 'bTankim_mp4-56_jpg.rf.30bfc1bb363f66f753fed24e1b9e28ba.txt', 'bTankim_mp4-57_jpg.rf.0ce967ba94d6ad5f7bfde609aa942489.txt', 'bTankim_mp4-57_jpg.rf.cc021fe7e3d9bfefe3e283f9e2a0288e.txt', 'bTankim_mp4-58_jpg.rf.f715579ba1fa5a825251dad662bec630.txt', 'bTankim_mp4-58_jpg.rf.ff8c76dd5e872e3e447403604734e7bc.txt', 'bTankim_mp4-59_jpg.rf.0186ed4807caada3d673d4b7c8bf3c27.txt', 'bTankim_mp4-59_jpg.rf.2202758473630fc0b92de5496ade6b5e.txt', 'bTankim_mp4-60_jpg.rf.c31decaefa020d53ba8748ca70e55895.txt', 'bTankim_mp4-61_jpg.rf.c6106996ed0ac58f2c7638e531f3b978.txt', 'bTankim_mp4-61_jpg.rf.d144f9872bc5e64daba829f01aae4a26.txt', 'bTankim_mp4-62_jpg.rf.72b8591700d9b1a887a76c562aca5bec.txt', 'bTankim_mp4-63_jpg.rf.d00d91db458c129f404ded6e62b9d69a.txt', 'bTankim_mp4-64_jpg.rf.3b81a531359e52a2eed432b5f77f4882.txt', 'bTankim_mp4-64_jpg.rf.5f91f2443684de4e4250827520fdfd55.txt', 'bTankim_mp4-65_jpg.rf.aa47c239f78dd85f44f025ba558f5328.txt', 'bTankim_mp4-67_jpg.rf.a85fd76161815824523079a51554e53c.txt', 'bTankim_mp4-69_jpg.rf.b56fb60ff5c355e8f32d6300070b9b6a.txt', 'bTankim_mp4-6_jpg.rf.f5011adde7a6dbd3249ead69d278404e.txt', 'bTankim_mp4-70_jpg.rf.1e5bd0a04719ced4f31d346cbad33fb4.txt', 'bTankim_mp4-71_jpg.rf.dffef6ebdbe0b5ebf386ccc73fd196e3.txt', 'bTankim_mp4-73_jpg.rf.a64f8e994f2a5559f810a4f0d236ec37.txt', 'bTankim_mp4-74_jpg.rf.7601f2eb5176cd522d6e89849e3e605d.txt', 'bTankim_mp4-76_jpg.rf.3ff8e3746f0c4896269f1976b0bfda21.txt', 'bTankim_mp4-77_jpg.rf.dcbcbf01940ed60a374eaeffbbe3d48e.txt', 'bTankim_mp4-78_jpg.rf.481d439eac3a2e52d5ef0e7e50a3469f.txt', 'bTankim_mp4-79_jpg.rf.ce998a3c1674995181b90fd996fc8415.txt', 'bTankim_mp4-79_jpg.rf.e114780cdb813e651989fe461e1568d8.txt', 'bTankim_mp4-80_jpg.rf.96651bb1601ec1801a1b72ab48908bb9.txt', 'bTankim_mp4-80_jpg.rf.cec58dce4ed5a1417e265f3026685e93.txt', 'bTankim_mp4-81_jpg.rf.becfe7dfc884fd2fef1f332b7ba60231.txt', 'bTankim_mp4-82_jpg.rf.ac40be31b5dc36a4b3f6633a360a72b3.txt', 'bTankim_mp4-83_jpg.rf.c4f3fa44c3d00c36a1916196bc4dc5ba.txt', 'bTankim_mp4-84_jpg.rf.40d56b2199eb6ff9657cd5c8f4e91465.txt', 'bTankim_mp4-85_jpg.rf.82718f262c9b63abbe4631e4f17c36d2.txt', 'bTankim_mp4-86_jpg.rf.3701bf674ee793d207919b2eb218cdef.txt', 'bTankim_mp4-87_jpg.rf.6ef9fd0400aeeecae567a168d22492c8.txt', 'bTankim_mp4-88_jpg.rf.ba0d2794440fb1dfd83b431844fb5885.txt', 'bTankim_mp4-8_jpg.rf.1b2d031ab9cc970cbb648efb41b99bf4.txt', 'bTankim_mp4-90_jpg.rf.0e1dd730a83b920cfa4a03308fae2fd5.txt', 'bTankim_mp4-91_jpg.rf.f21f0dd69483f7f2d529ae7606c4e81b.txt', 'bTankim_mp4-92_jpg.rf.198ee223e944e18dfe9d7c4af7a6b522.txt', 'bthumb-1920-673146_png.rf.e13419e1548127381e45907b2d5f2b9d.txt', 'bTwo_AMX-30_main_battle_tanks_in_1991_JPEG.rf.3b26043e8b156013e9d9a8ba0d19c08a.txt', 'bV280-2_jpg.rf.be32e1322aba9edca373a6501a8205b0.txt', 'bVID_20221208_131054_mp4-0_jpg.rf.2dcc6f6b40908d9b60e0fe6a77c2ebe8.txt', 'bVID_20221208_131054_mp4-10_jpg.rf.82d48742f298997b77e188384b3cb122.txt', 'bVID_20221208_131054_mp4-12_jpg.rf.44ee57be28d06efb92c94de353d146ea.txt', 'bVID_20221208_131054_mp4-14_jpg.rf.b795825e353097ce5f08bedc5f5055c1.txt', 'bVID_20221208_131054_mp4-15_jpg.rf.92d254b06551fba546a007e35c9eb102.txt', 'bVID_20221208_131054_mp4-18_jpg.rf.98c2483047bcd6ca975ac03944b9b9dd.txt', 'bVID_20221208_131054_mp4-19_jpg.rf.f0a10790f0bb110132b6f377f0714fbd.txt', 'bVID_20221208_131054_mp4-1_jpg.rf.487640a9378cfc42f449804d259cc78e.txt', 'bVID_20221208_131054_mp4-20_jpg.rf.427c30bf649b3ea96c998b84af3f313b.txt', 'bVID_20221208_131054_mp4-21_jpg.rf.e95fdbcd9dfea38f78624c752bf6592c.txt', 'bVID_20221208_131054_mp4-22_jpg.rf.02f26a6f2705115c5f946177bd5f7e57.txt', 'bVID_20221208_131054_mp4-24_jpg.rf.1b9c109035f8c2099c36ac0fc24221dd.txt', 'bVID_20221208_131054_mp4-25_jpg.rf.6f9a6b9ed40daf23c3aed210115289e5.txt', 'bVID_20221208_131054_mp4-26_jpg.rf.16b7ba0f8509a7f0a3a0db741982140c.txt', 'bVID_20221208_131054_mp4-27_jpg.rf.e3c1b62a914d83f1a0643a6458a890b2.txt', 'bVID_20221208_131054_mp4-28_jpg.rf.bb5266cab3d3ca1f51286ba272898148.txt', 'bVID_20221208_131054_mp4-29_jpg.rf.fbfaedd491af904343e6b096667b3a00.txt', 'bVID_20221208_131054_mp4-2_jpg.rf.aee246db620bd0e76d612f42f6c5d8bb.txt', 'bVID_20221208_131054_mp4-30_jpg.rf.416a1da12429bbd9ae6768264b749482.txt', 'bVID_20221208_131054_mp4-31_jpg.rf.6af1ac44f758e3ad9aa5f795aefddf93.txt', 'bVID_20221208_131054_mp4-32_jpg.rf.91589b624fc6e6ae8cb9633416ff089e.txt', 'bVID_20221208_131054_mp4-34_jpg.rf.5a10912c46908030f1481a0d261ad794.txt', 'bVID_20221208_131054_mp4-36_jpg.rf.e99e1c2b029b5bada24b2552a0d7afea.txt', 'bVID_20221208_131054_mp4-37_jpg.rf.21bb2576efa09d6cae5999d34079f026.txt', 'bVID_20221208_131054_mp4-38_jpg.rf.271143c7a6d686f33939d87a4069858d.txt', 'bVID_20221208_131054_mp4-3_jpg.rf.127d55ee24e030e7500593b01697eaf6.txt', 'bVID_20221208_131054_mp4-3_jpg.rf.bda8acfa2d362e3ac6a5c926733ee2bd.txt', 'bVID_20221208_131054_mp4-40_jpg.rf.8ece2bffadb7016dacb6f710eb90da5a.txt', 'bVID_20221208_131054_mp4-41_jpg.rf.bd1097ff6ec99c44675e560a8ff43fec.txt', 'bVID_20221208_131054_mp4-43_jpg.rf.4b2e6d8d6558413f075b540b6afd815f.txt', 'bVID_20221208_131054_mp4-44_jpg.rf.e0f2a9c6c80f14e1d665ccecdc0fd94f.txt', 'bVID_20221208_131054_mp4-45_jpg.rf.03f148cecef465e84695e8db64d13ac9.txt', 'bVID_20221208_131054_mp4-46_jpg.rf.ac7bf12c7aaec3ef6d045492d47bbdde.txt', 'bVID_20221208_131054_mp4-47_jpg.rf.58644d88e4fe08b0110a3164fe8e6f76.txt', 'bVID_20221208_131054_mp4-48_jpg.rf.5210086af119b430eaa601a32171f740.txt', 'bVID_20221208_131054_mp4-4_jpg.rf.5c00a04d0f476ff5ca2f29ebf64f9eb5.txt', 'bVID_20221208_131054_mp4-50_jpg.rf.c49dfdbbc7d8300a323ff24065826a9d.txt', 'bVID_20221208_131054_mp4-52_jpg.rf.124006ae8fa6b92489993cbf179f6625.txt', 'bVID_20221208_131054_mp4-53_jpg.rf.c05419070e601174cb48db26d244b287.txt', 'bVID_20221208_131054_mp4-54_jpg.rf.2fbc7538a44f9e8e0c4d2e239f3d4608.txt', 'bVID_20221208_131054_mp4-55_jpg.rf.a5389dc40b0e81b5a879bbc4fbe8c7b1.txt', 'bVID_20221208_131054_mp4-56_jpg.rf.6f9649db478f7eea28dda14f755ee2ce.txt', 'bVID_20221208_131054_mp4-57_jpg.rf.5a590424b98a019342360391a0f9de58.txt', 'bVID_20221208_131054_mp4-5_jpg.rf.44093a592a21520013eb726af4d95dd6.txt', 'bVID_20221208_131054_mp4-5_jpg.rf.626d77cc9de9be4f247369335e1aefa2.txt', 'bVID_20221208_131054_mp4-62_jpg.rf.40ffcb6cc29a08343f6006d3acba2791.txt', 'bVID_20221208_131054_mp4-63_jpg.rf.21a13b040ea99fc6f63c47628be40865.txt', 'bVID_20221208_131054_mp4-64_jpg.rf.b06d75726b99f31eaf597bfa42cd48e3.txt', 'bVID_20221208_131054_mp4-65_jpg.rf.bd416f890eb51b1973620fd22e9f0e76.txt', 'bVID_20221208_131054_mp4-66_jpg.rf.fb3281b4f8e49bf408754dc42999755d.txt', 'bVID_20221208_131054_mp4-67_jpg.rf.a0bab93d6511d0f02bceee331a13f54b.txt', 'bVID_20221208_131054_mp4-68_jpg.rf.487ed159b565c5d41fbdf29781a4c45f.txt', 'bVID_20221208_131054_mp4-69_jpg.rf.48af9212b7e68673467203edcd4e2a72.txt', 'bVID_20221208_131054_mp4-6_jpg.rf.131d1f6fada1c9f3e5b1f514f0004aff.txt', 'bVID_20221208_131054_mp4-6_jpg.rf.17084e8f94a931d1b625eca5273c5e89.txt', 'bVID_20221208_131054_mp4-70_jpg.rf.cb95334a02cc2b91a6fc772b5eebebba.txt', 'bVID_20221208_131054_mp4-72_jpg.rf.f9433431bae55c639619b760bbb3d10f.txt', 'bVID_20221208_131054_mp4-74_jpg.rf.60ab6985b3e63943653cf20bc761afea.txt', 'bVID_20221208_131054_mp4-76_jpg.rf.36173baec4ed593cfb43f0ee2071febf.txt', 'bVID_20221208_131054_mp4-78_jpg.rf.86a703c8ef7affd02cf424680555d46d.txt', 'bVID_20221208_131054_mp4-7_jpg.rf.2c6717975875382d0933fbd3ea9f2f11.txt', 'bVID_20221208_131054_mp4-7_jpg.rf.76658637f9302f8cec73a3fcb0615993.txt', 'bVID_20221208_131054_mp4-80_jpg.rf.9668f82b72460325a5b993a8aaa7595c.txt', 'bVID_20221208_131054_mp4-8_jpg.rf.f738b22cc0a62924db485d8c9a7af887.txt', 'bVID_20221208_131054_mp4-9_jpg.rf.08950e6aacdf8705c2fc7f7a92d85a81.txt', 'bvlcsnap-2017-10-08-17h47m52s608_jpg.rf.ad05077eaeb8db1333fe3b3915f765b6.txt', 'bWeb_F070426IDF01_jpg.rf.6d9594afe7d95b97cb8f5408f3430295.txt', 'bwp7298516_jpg.rf.2d3df7e587f7d933cfd5305948a62530.txt', 'bykr1-2510-550_jpg.rf.614ac8164bacaa6531d3e204e7fb9eab.txt', 'byu_png.rf.1d029525789e671aaf9f391c04f92da4.txt', 'Face_Mask_jpg.rf.fa98380c881ee53da65c653423cb47b0.txt', 'GDNGOOC2NJW67UNSLEVJXOLPMA_jpg.rf.31d3ef79828e7c322605f6051c4d14ef.txt', 'GDNGOOC2NJW67UNSLEVJXOLPMA_jpg.rf.971666de95ad83942789137ea630326f.txt', 'GDNGOOC2NJW67UNSLEVJXOLPMA_jpg.rf.e777d132fe50b8e7fb31f5491488a636.txt', 'GettyImages-1255068508-2cad081fd0a844ccaf782af430250ddb_jpg.rf.342d784ef8fafae2a190e9d2d47c18ff.txt', 'GettyImages-1255068508-2cad081fd0a844ccaf782af430250ddb_jpg.rf.4a558108400db649550af54a7b281a7e.txt', 'in-typical-apple-style-the-mask-looks-unique-with-large-coverings-on-the-top-and-bottom-_jpg.rf.846733f5b91c8afcacb19179f348ec30.txt', 'in-typical-apple-style-the-mask-looks-unique-with-large-coverings-on-the-top-and-bottom-_jpg.rf.87102980187fed59215e7af305792494.txt', 'in-typical-apple-style-the-mask-looks-unique-with-large-coverings-on-the-top-and-bottom-_jpg.rf.cfed8a2b8b88dc1b63da5f3248cd0573.txt', 'in-typical-apple-style-the-mask-looks-unique-with-large-coverings-on-the-top-and-bottom-_jpg.rf.e738f3375ae298d8cb31ba4c04029b4a.txt', 'in-typical-apple-style-the-mask-looks-unique-with-large-coverings-on-the-top-and-bottom-_jpg.rf.feb149d9123d02e55fc3c04bb226054b.txt', 'istockphoto-1250279695-612x612_jpg.rf.392414b15a933cc9fc8cc9dd9cd7dc5f.txt', 'istockphoto-1250279695-612x612_jpg.rf.7e15bacdf25611bc34ebaec97eab6658.txt', 'istockphoto-1250279695-612x612_jpg.rf.b9042b92f59c06432c00b1814f53a955.txt', 'istockphoto-1250279695-612x612_jpg.rf.bd8a4fad76253095dcf53895fd4954b1.txt', 'scene00376.txt', 'scene00391.txt', 'scene00406.txt', 'scene00421.txt', 'scene00436.txt', 'scene00451.txt', 'scene00466.txt', 'scene00481.txt', 'scene00496.txt', 'scene00511.txt', 'scene00526.txt', 'scene00541.txt', 'scene00556.txt', 'scene00571.txt', 'scene00586.txt', 'scene00601.txt', 'scene00616.txt', 'scene00631.txt', 'scene00646.txt', 'scene00661.txt', 'scene00676.txt', 'scene00691.txt', 'scene00706.txt', 'scene00721.txt', 'scene00736.txt', 'scene00751.txt', 'scene00766.txt', 'scene00781.txt', 'scene00796.txt', 'scene00811.txt', 'scene00826.txt', 'scene00841.txt', 'scene00856.txt', 'scene00871.txt', 'scene00886.txt', 'scene00901.txt', 'scene00916.txt', 'scene00931.txt', 'scene00946.txt', 'scene00961.txt', 'scene00976.txt', 'scene00991.txt', 'scene01006.txt', 'scene01021.txt', 'scene01036.txt', 'scene01051.txt', 'WWW-156-_jpg.rf.601d011c688023d22b962f76e44e025c.txt', 'WWW-165-_jpg.rf.54ea1f8190a0af337e2962fafa87e644.txt', 'WWW-198-_jpg.rf.01f8c9be155ff103d2b483675f41de04.txt', 'WWW-22-_jpg.rf.fa0952786c8b9886a4d945e828aabfba.txt', 'WWW-29-_jpg.rf.f25d925a86f671e6aff8b31dfdbd7556.txt', 'WWW-32-_jpg.rf.b6793b8d58ad7cc5488cbb89277e125d.txt', 'WWW-36-_jpg.rf.a5bbf638d48c3eb081112be3c51e2a58.txt', 'w_21_.txt', 'w_22_.txt', 'w_23_.txt', 'w_24_.txt', 'w_25_.txt', 'w_26_.txt', 'w_27_.txt', 'w_28_.txt', 'w_29_.txt', 'x_10_.txt', 'x_11_.txt', 'x_1_.txt', 'x_4_.txt', 'x_5_.txt', 'x_7_.txt', 'x_8_.txt', 'x_9_.txt', 'yoto00001.txt', 'yoto00030.txt', 'yoto00059.txt', 'yoto00262.txt', 'yoto00291.txt', 'yoto00320.txt', 'yoto00349.txt', 'yoto00378.txt', 'yoto00407.txt', 'yoto00436.txt', 'yoto00465.txt', 'yoto00494.txt', 'yoto00755.txt', 'yoto00784.txt', 'yoto00813.txt', 'yoto00842.txt', 'yoto00871.txt', 'yoto00900.txt', 'yoto00929.txt', 'yoto00958.txt', 'yoto00987.txt', 'yoto01016.txt', 'yoto01045.txt', 'yoto01074.txt', 'yoto01103.txt', 'yoto01132.txt', 'yoto01161.txt', 'yoto01190.txt', 'yoto01219.txt', 'yoto01248.txt', 'yoto01277.txt', 'yoto01306.txt', 'yoto01335.txt', 'yoto01364.txt', 'yoto01393.txt', 'yoto01422.txt', 'yoto01451.txt', 'yoto02611.txt', 'yoto02640.txt', 'yoto02669.txt', 'yoto02698.txt', 'yoto02727.txt', 'yoto02756.txt', 'yoto02785.txt', 'yoto02814.txt', 'yoto02843.txt', 'yoto02872.txt', 'yoto02901.txt', 'yoto02930.txt', 'yoto02959.txt', 'yoto02988.txt', 'yoto03017.txt', 'yoto03046.txt', 'yoto03075.txt', 'yoto04931.txt', 'yoto04989.txt', 'yoto05018.txt', 'yoto05076.txt', 'yoto05134.txt', 'yoto05163.txt', 'yoto05192.txt', 'yoto06410.txt', 'yoto06439.txt', 'yoto06468.txt', 'yoto06497.txt', 'yoto09716.txt', 'yoto10383.txt', 'yoto10412.txt', 'yoto10441.txt', 'yoto10499.txt', 'yoto10557.txt', 'yoto10586.txt', 'yoto10702.txt', 'yoto10731.txt', 'yoto10760.txt', 'yoto10789.txt', 'yoto10818.txt', 'yoto10847.txt', 'yoto10876.txt', 'yoto10905.txt', 'yoto10934.txt', 'yoto10963.txt', 'yoto10992.txt', 'yoto11021.txt', 'yoto11050.txt', 'yoto11079.txt', 'yoto11108.txt', 'yoto11485.txt', 'yoto11920.txt', 'youtube-0_jpg.rf.272c3610e7bde8d521c9ade104c845ff.txt', 'youtube-10_jpg.rf.f772bbc9ef5818e572c49e99b1d3494f.txt', 'youtube-11_jpg.rf.ac465e38d9ceb9b254ef3f9b36cf26be.txt', 'youtube-11_jpg.rf.af964f87c2d710b595d647f00152149d.txt', 'youtube-12_jpg.rf.3dc496eec839e1f226407a47860d9fd7.txt', 'youtube-12_jpg.rf.89f8114f7758f4eb9ab9dd43019a6938.txt', 'youtube-12_jpg.rf.a1cd8304b56edc1f19a56f8b0d5ca591.txt', 'youtube-13_jpg.rf.88485fac3f8abc97351a1b984420f043.txt', 'youtube-13_jpg.rf.fd0fd18c2745cc8878c016ad11d8f018.txt', 'youtube-14_jpg.rf.17f6c1cfac5301bbfb14ff545e427b02.txt', 'youtube-14_jpg.rf.baa729ba658fd75d2ec713769e42959a.txt', 'youtube-15_jpg.rf.0dda4f1c44ee6f8ad6fdfbbff26e0a0b.txt', 'youtube-1_jpg.rf.7231d319aefc76bb2df42471c46a07ba.txt', 'youtube-20_jpg.rf.0516f28efce8630a78e0277a289dcb2b.txt', 'youtube-21_jpg.rf.7c293db0774812fdb740e775c8325e82.txt', 'youtube-24_jpg.rf.f657fb7d6e8932f81474b0dcbadb55d0.txt', 'youtube-25_jpg.rf.c49533a05f33005bcb3633bbdc3de1f8.txt', 'youtube-25_jpg.rf.d137c0404958afffe0ec1ed46c1b385a.txt', 'youtube-26_jpg.rf.5916b2d9c8445c90596472baa64d2123.txt', 'youtube-2_jpg.rf.7ad69cc83b6c4492df272900b0764ab4.txt', 'youtube-2_jpg.rf.fc78b15df382b64c7c5aea5d0ba0eb1c.txt', 'youtube-30_jpg.rf.3890062ac5c3423f39999c6e31de30b6.txt', 'youtube-30_jpg.rf.a919d9911da4302b14fbdb3774a98fef.txt', 'youtube-31_jpg.rf.9525748da9f96c8158d1ede67f617c84.txt', 'youtube-32_jpg.rf.8a6e5cdf2e2293e7eaceb6e886c4d85e.txt', 'youtube-33_jpg.rf.070c5a1d000d48b40c53dee8601e6e22.txt', 'youtube-34_jpg.rf.1762470330ffb41bef2beed4be862535.txt', 'youtube-34_jpg.rf.6a003b22906f6503d8dcbaaab007960b.txt', 'youtube-37_jpg.rf.b98d2911f6095e9d9e395dc793018cef.txt', 'youtube-38_jpg.rf.531f3a6c4b3e4a0d860a1ded1dd7e933.txt', 'youtube-39_jpg.rf.4e3db6c9fb25a9714c10e8c8c8999f26.txt', 'youtube-39_jpg.rf.83fc8a5676de231a676fe374bff9018d.txt', 'youtube-42_jpg.rf.aa6ada039f8b03a9d252354def07504a.txt', 'youtube-47_jpg.rf.db646e2dfb9cbc0b300b6de5c7b1753e.txt', 'youtube-4_jpg.rf.ec5d723cdf66c3a7f0ec533fbd888939.txt', 'youtube-55_jpg.rf.88706f9f87f1cce2cac76b6ca177d21e.txt', 'youtube-58_jpg.rf.9475ec578c0dc4b18677cba54870e21c.txt', 'youtube-62_jpg.rf.fb3326c89f5b031555343e58ee852810.txt', 'youtube-72_jpg.rf.980597e70f74584eb92add04ef08ee0a.txt', 'youtube-8_jpg.rf.5363efad0d0dfd4fceb5576679cdc833.txt', 'youtube-9_jpg.rf.a15ff80fec86db0c9cf52eb090edaaec.txt', 'y_10_.txt', 'y_11_.txt', 'y_12_.txt', 'y_13_.txt', 'y_14_.txt', 'y_15_.txt', 'y_16_.txt', 'y_17_.txt', 'y_18_.txt', 'y_19_.txt', 'y_1_.txt', 'y_20_.txt', 'y_21_.txt', 'y_22_.txt', 'y_23_.txt', 'y_24_.txt', 'y_3_.txt', 'y_4_.txt', 'y_5_.txt', 'y_6_.txt', 'y_7_.txt', 'y_8_.txt', 'y_9_.txt', 'z_1_.txt', 'z_2_.txt', 'z_3_.txt', 'z_4_.txt', 'z_5_.txt', 'z_6_.txt', 'z_7_.txt', 'z_8_.txt', 'z_9_.txt']\n",
      "No image files found in test directory.\n"
     ]
    }
   ],
   "source": [
    "# Debug: List image and label files for test split\n",
    "print(\"Test image directory:\", test_dataset)\n",
    "print(\"Test label directory:\", test_label_dir)\n",
    "\n",
    "image_files = [f for f in os.listdir(test_dataset) if f.endswith(('.jpg', '.jpeg', '.png'))]\n",
    "label_files = [f for f in os.listdir(test_label_dir) if f.endswith('.txt')]\n",
    "\n",
    "print(\"Image files:\", image_files)\n",
    "print(\"Label files:\", label_files)\n",
    "\n",
    "if image_files:\n",
    "    first_img = image_files[0]\n",
    "    expected_label = os.path.splitext(first_img)[0] + '.txt'\n",
    "    print(f\"For image '{first_img}', expected label file: '{expected_label}'\")\n",
    "    print(\"Exists in label dir:\", expected_label in label_files)\n",
    "else:\n",
    "    print(\"No image files found in test directory.\")"
   ]
  }
 ],
 "metadata": {
  "kernelspec": {
   "display_name": "vengeance",
   "language": "python",
   "name": "python3"
  },
  "language_info": {
   "codemirror_mode": {
    "name": "ipython",
    "version": 3
   },
   "file_extension": ".py",
   "mimetype": "text/x-python",
   "name": "python",
   "nbconvert_exporter": "python",
   "pygments_lexer": "ipython3",
   "version": "3.10.18"
  }
 },
 "nbformat": 4,
 "nbformat_minor": 5
}
